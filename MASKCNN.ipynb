{
  "nbformat": 4,
  "nbformat_minor": 0,
  "metadata": {
    "colab": {
      "name": "MASKCNN.ipynb",
      "provenance": [],
      "collapsed_sections": []
    },
    "kernelspec": {
      "name": "python3",
      "display_name": "Python 3"
    },
    "accelerator": "GPU"
  },
  "cells": [
    {
      "cell_type": "code",
      "metadata": {
        "id": "nizgglgLVgn5"
      },
      "source": [
        "import os"
      ],
      "execution_count": 45,
      "outputs": []
    },
    {
      "cell_type": "code",
      "metadata": {
        "id": "xy47ASE0aZHT"
      },
      "source": [
        "os.chdir('/content/drive/My Drive/Mask Detector CNN CV')"
      ],
      "execution_count": 46,
      "outputs": []
    },
    {
      "cell_type": "code",
      "metadata": {
        "id": "eYnA6kOndJfS"
      },
      "source": [
        "images = np.load('/content/drive/My Drive/Mask Detector CNN CV/images.npy')\n",
        "labels = np.load('/content/drive/My Drive/Mask Detector CNN CV/labels.npy' )"
      ],
      "execution_count": 47,
      "outputs": []
    },
    {
      "cell_type": "code",
      "metadata": {
        "id": "Bbm57Ng6h8DD"
      },
      "source": [
        "from sklearn.model_selection import train_test_split"
      ],
      "execution_count": 48,
      "outputs": []
    },
    {
      "cell_type": "code",
      "metadata": {
        "id": "BRj_oTxxhvFI"
      },
      "source": [
        "train_X,test_X,train_y,test_y = train_test_split(images,labels,test_size=0.25,random_state = 0)"
      ],
      "execution_count": 49,
      "outputs": []
    },
    {
      "cell_type": "code",
      "metadata": {
        "id": "ovSR4igeiQx-",
        "outputId": "42d74431-16e8-47de-ecc6-553c19deab8a",
        "colab": {
          "base_uri": "https://localhost:8080/",
          "height": 35
        }
      },
      "source": [
        "train_X.shape"
      ],
      "execution_count": 50,
      "outputs": [
        {
          "output_type": "execute_result",
          "data": {
            "text/plain": [
              "(941, 112, 112, 1)"
            ]
          },
          "metadata": {
            "tags": []
          },
          "execution_count": 50
        }
      ]
    },
    {
      "cell_type": "code",
      "metadata": {
        "id": "WkF5tuANiW0t",
        "outputId": "31c09bbc-4c7c-4c1a-ebe0-e12669cccf80",
        "colab": {
          "base_uri": "https://localhost:8080/",
          "height": 35
        }
      },
      "source": [
        "train_y.shape"
      ],
      "execution_count": 51,
      "outputs": [
        {
          "output_type": "execute_result",
          "data": {
            "text/plain": [
              "(941, 2)"
            ]
          },
          "metadata": {
            "tags": []
          },
          "execution_count": 51
        }
      ]
    },
    {
      "cell_type": "code",
      "metadata": {
        "id": "sFuXF1cdiZKe",
        "outputId": "a3939e8c-3a45-4111-e1db-f3002b76fb48",
        "colab": {
          "base_uri": "https://localhost:8080/",
          "height": 35
        }
      },
      "source": [
        "test_X.shape"
      ],
      "execution_count": 52,
      "outputs": [
        {
          "output_type": "execute_result",
          "data": {
            "text/plain": [
              "(314, 112, 112, 1)"
            ]
          },
          "metadata": {
            "tags": []
          },
          "execution_count": 52
        }
      ]
    },
    {
      "cell_type": "code",
      "metadata": {
        "id": "WhQve-GXit8V"
      },
      "source": [
        "from tensorflow.keras.models import Sequential\n",
        "from tensorflow.keras.layers import Flatten,Dense,Activation,Dropout\n",
        "from tensorflow.keras.layers import Conv2D, MaxPooling2D,SpatialDropout2D\n",
        "from tensorflow.keras.callbacks import ModelCheckpoint"
      ],
      "execution_count": 53,
      "outputs": []
    },
    {
      "cell_type": "code",
      "metadata": {
        "id": "hS0eszIPi4nW"
      },
      "source": [
        "import tensorflow as tf\n",
        "num_classes = 2\n",
        "batch_size= 32\n",
        "model = Sequential()\n",
        "\n",
        "model.add(Conv2D(64,(3,3),input_shape = (img_rows,img_cols,1)))\n",
        "model.add(Activation('relu'))\n",
        "model.add(MaxPooling2D(pool_size=(2,2)))\n",
        "\n",
        "model.add(Conv2D(128,(3,3)))\n",
        "model.add(Activation('relu'))\n",
        "model.add(MaxPooling2D(pool_size=(2,2)))\n",
        "\n",
        "model.add(Flatten())\n",
        "model.add(Dropout(0.5))\n",
        "\n",
        "model.add(Dense(64,activation='relu'))\n",
        "model.add(Dense(num_classes,activation='softmax'))\n"
      ],
      "execution_count": 54,
      "outputs": []
    },
    {
      "cell_type": "code",
      "metadata": {
        "id": "qptXU3VMjCLu",
        "outputId": "ad3dc57d-c682-4fc5-c50d-ff6caada4097",
        "colab": {
          "base_uri": "https://localhost:8080/",
          "height": 526
        }
      },
      "source": [
        "model.summary()"
      ],
      "execution_count": 55,
      "outputs": [
        {
          "output_type": "stream",
          "text": [
            "Model: \"sequential_3\"\n",
            "_________________________________________________________________\n",
            "Layer (type)                 Output Shape              Param #   \n",
            "=================================================================\n",
            "conv2d_6 (Conv2D)            (None, 110, 110, 64)      640       \n",
            "_________________________________________________________________\n",
            "activation_6 (Activation)    (None, 110, 110, 64)      0         \n",
            "_________________________________________________________________\n",
            "max_pooling2d_6 (MaxPooling2 (None, 55, 55, 64)        0         \n",
            "_________________________________________________________________\n",
            "conv2d_7 (Conv2D)            (None, 53, 53, 128)       73856     \n",
            "_________________________________________________________________\n",
            "activation_7 (Activation)    (None, 53, 53, 128)       0         \n",
            "_________________________________________________________________\n",
            "max_pooling2d_7 (MaxPooling2 (None, 26, 26, 128)       0         \n",
            "_________________________________________________________________\n",
            "flatten_3 (Flatten)          (None, 86528)             0         \n",
            "_________________________________________________________________\n",
            "dropout_3 (Dropout)          (None, 86528)             0         \n",
            "_________________________________________________________________\n",
            "dense_6 (Dense)              (None, 64)                5537856   \n",
            "_________________________________________________________________\n",
            "dense_7 (Dense)              (None, 2)                 130       \n",
            "=================================================================\n",
            "Total params: 5,612,482\n",
            "Trainable params: 5,612,482\n",
            "Non-trainable params: 0\n",
            "_________________________________________________________________\n"
          ],
          "name": "stdout"
        }
      ]
    },
    {
      "cell_type": "code",
      "metadata": {
        "id": "J4b5rAqzjJzm",
        "outputId": "75e8195d-7bc6-400d-d99e-430c0aabe199",
        "colab": {
          "base_uri": "https://localhost:8080/",
          "height": 1000
        }
      },
      "source": [
        "from keras.optimizers import Adam\n",
        "epochs = 50\n",
        "model.compile(loss='categorical_crossentropy',optimizer=Adam(lr=0.0001),metrics=['accuracy'])\n",
        "\n",
        "fitted_model = model.fit(train_X,train_y,epochs=epochs,validation_split=0.25)"
      ],
      "execution_count": 56,
      "outputs": [
        {
          "output_type": "stream",
          "text": [
            "Epoch 1/50\n",
            "23/23 [==============================] - 1s 31ms/step - loss: 0.6719 - accuracy: 0.5759 - val_loss: 0.6448 - val_accuracy: 0.6102\n",
            "Epoch 2/50\n",
            "23/23 [==============================] - 1s 24ms/step - loss: 0.6122 - accuracy: 0.6652 - val_loss: 0.5837 - val_accuracy: 0.6907\n",
            "Epoch 3/50\n",
            "23/23 [==============================] - 1s 24ms/step - loss: 0.5228 - accuracy: 0.7759 - val_loss: 0.5384 - val_accuracy: 0.7246\n",
            "Epoch 4/50\n",
            "23/23 [==============================] - 1s 25ms/step - loss: 0.4732 - accuracy: 0.7787 - val_loss: 0.5965 - val_accuracy: 0.6441\n",
            "Epoch 5/50\n",
            "23/23 [==============================] - 1s 25ms/step - loss: 0.4609 - accuracy: 0.7816 - val_loss: 0.6286 - val_accuracy: 0.6102\n",
            "Epoch 6/50\n",
            "23/23 [==============================] - 1s 24ms/step - loss: 0.4971 - accuracy: 0.7277 - val_loss: 0.4689 - val_accuracy: 0.8136\n",
            "Epoch 7/50\n",
            "23/23 [==============================] - 1s 24ms/step - loss: 0.4206 - accuracy: 0.8099 - val_loss: 0.4452 - val_accuracy: 0.8475\n",
            "Epoch 8/50\n",
            "23/23 [==============================] - 1s 24ms/step - loss: 0.3729 - accuracy: 0.8638 - val_loss: 0.4320 - val_accuracy: 0.8347\n",
            "Epoch 9/50\n",
            "23/23 [==============================] - 1s 25ms/step - loss: 0.3567 - accuracy: 0.8667 - val_loss: 0.4236 - val_accuracy: 0.8051\n",
            "Epoch 10/50\n",
            "23/23 [==============================] - 1s 25ms/step - loss: 0.3187 - accuracy: 0.8879 - val_loss: 0.4257 - val_accuracy: 0.8136\n",
            "Epoch 11/50\n",
            "23/23 [==============================] - 1s 24ms/step - loss: 0.3030 - accuracy: 0.8794 - val_loss: 0.4044 - val_accuracy: 0.8559\n",
            "Epoch 12/50\n",
            "23/23 [==============================] - 1s 24ms/step - loss: 0.3224 - accuracy: 0.8681 - val_loss: 0.3863 - val_accuracy: 0.8602\n",
            "Epoch 13/50\n",
            "23/23 [==============================] - 1s 25ms/step - loss: 0.2892 - accuracy: 0.8809 - val_loss: 0.3967 - val_accuracy: 0.8432\n",
            "Epoch 14/50\n",
            "23/23 [==============================] - 1s 24ms/step - loss: 0.2614 - accuracy: 0.9135 - val_loss: 0.3849 - val_accuracy: 0.8432\n",
            "Epoch 15/50\n",
            "23/23 [==============================] - 1s 24ms/step - loss: 0.2687 - accuracy: 0.8979 - val_loss: 0.3727 - val_accuracy: 0.8559\n",
            "Epoch 16/50\n",
            "23/23 [==============================] - 1s 24ms/step - loss: 0.2384 - accuracy: 0.9064 - val_loss: 0.3866 - val_accuracy: 0.8559\n",
            "Epoch 17/50\n",
            "23/23 [==============================] - 1s 24ms/step - loss: 0.2194 - accuracy: 0.9191 - val_loss: 0.3743 - val_accuracy: 0.8475\n",
            "Epoch 18/50\n",
            "23/23 [==============================] - 1s 24ms/step - loss: 0.2036 - accuracy: 0.9390 - val_loss: 0.3775 - val_accuracy: 0.8602\n",
            "Epoch 19/50\n",
            "23/23 [==============================] - 1s 25ms/step - loss: 0.2005 - accuracy: 0.9376 - val_loss: 0.3638 - val_accuracy: 0.8559\n",
            "Epoch 20/50\n",
            "23/23 [==============================] - 1s 24ms/step - loss: 0.1951 - accuracy: 0.9248 - val_loss: 0.3918 - val_accuracy: 0.8517\n",
            "Epoch 21/50\n",
            "23/23 [==============================] - 1s 24ms/step - loss: 0.1820 - accuracy: 0.9461 - val_loss: 0.3700 - val_accuracy: 0.8517\n",
            "Epoch 22/50\n",
            "23/23 [==============================] - 1s 24ms/step - loss: 0.1572 - accuracy: 0.9589 - val_loss: 0.3853 - val_accuracy: 0.8390\n",
            "Epoch 23/50\n",
            "23/23 [==============================] - 1s 24ms/step - loss: 0.1551 - accuracy: 0.9532 - val_loss: 0.3636 - val_accuracy: 0.8475\n",
            "Epoch 24/50\n",
            "23/23 [==============================] - 1s 25ms/step - loss: 0.1477 - accuracy: 0.9617 - val_loss: 0.3680 - val_accuracy: 0.8475\n",
            "Epoch 25/50\n",
            "23/23 [==============================] - 1s 24ms/step - loss: 0.1420 - accuracy: 0.9574 - val_loss: 0.3830 - val_accuracy: 0.8475\n",
            "Epoch 26/50\n",
            "23/23 [==============================] - 1s 24ms/step - loss: 0.1253 - accuracy: 0.9645 - val_loss: 0.3659 - val_accuracy: 0.8559\n",
            "Epoch 27/50\n",
            "23/23 [==============================] - 1s 24ms/step - loss: 0.1461 - accuracy: 0.9433 - val_loss: 0.3523 - val_accuracy: 0.8517\n",
            "Epoch 28/50\n",
            "23/23 [==============================] - 1s 25ms/step - loss: 0.1121 - accuracy: 0.9730 - val_loss: 0.3806 - val_accuracy: 0.8475\n",
            "Epoch 29/50\n",
            "23/23 [==============================] - 1s 24ms/step - loss: 0.1169 - accuracy: 0.9645 - val_loss: 0.3452 - val_accuracy: 0.8644\n",
            "Epoch 30/50\n",
            "23/23 [==============================] - 1s 24ms/step - loss: 0.1013 - accuracy: 0.9773 - val_loss: 0.3690 - val_accuracy: 0.8517\n",
            "Epoch 31/50\n",
            "23/23 [==============================] - 1s 24ms/step - loss: 0.1053 - accuracy: 0.9688 - val_loss: 0.3542 - val_accuracy: 0.8602\n",
            "Epoch 32/50\n",
            "23/23 [==============================] - 1s 24ms/step - loss: 0.0886 - accuracy: 0.9844 - val_loss: 0.3628 - val_accuracy: 0.8517\n",
            "Epoch 33/50\n",
            "23/23 [==============================] - 1s 24ms/step - loss: 0.0807 - accuracy: 0.9844 - val_loss: 0.4322 - val_accuracy: 0.8390\n",
            "Epoch 34/50\n",
            "23/23 [==============================] - 1s 24ms/step - loss: 0.0855 - accuracy: 0.9858 - val_loss: 0.3526 - val_accuracy: 0.8602\n",
            "Epoch 35/50\n",
            "23/23 [==============================] - 1s 24ms/step - loss: 0.0787 - accuracy: 0.9858 - val_loss: 0.3642 - val_accuracy: 0.8559\n",
            "Epoch 36/50\n",
            "23/23 [==============================] - 1s 25ms/step - loss: 0.0767 - accuracy: 0.9858 - val_loss: 0.3703 - val_accuracy: 0.8559\n",
            "Epoch 37/50\n",
            "23/23 [==============================] - 1s 24ms/step - loss: 0.0735 - accuracy: 0.9830 - val_loss: 0.3860 - val_accuracy: 0.8517\n",
            "Epoch 38/50\n",
            "23/23 [==============================] - 1s 24ms/step - loss: 0.0670 - accuracy: 0.9872 - val_loss: 0.3835 - val_accuracy: 0.8559\n",
            "Epoch 39/50\n",
            "23/23 [==============================] - 1s 24ms/step - loss: 0.0616 - accuracy: 0.9844 - val_loss: 0.4009 - val_accuracy: 0.8475\n",
            "Epoch 40/50\n",
            "23/23 [==============================] - 1s 24ms/step - loss: 0.0660 - accuracy: 0.9887 - val_loss: 0.3763 - val_accuracy: 0.8602\n",
            "Epoch 41/50\n",
            "23/23 [==============================] - 1s 24ms/step - loss: 0.0515 - accuracy: 0.9929 - val_loss: 0.3756 - val_accuracy: 0.8559\n",
            "Epoch 42/50\n",
            "23/23 [==============================] - 1s 24ms/step - loss: 0.0481 - accuracy: 0.9943 - val_loss: 0.3788 - val_accuracy: 0.8602\n",
            "Epoch 43/50\n",
            "23/23 [==============================] - 1s 24ms/step - loss: 0.0489 - accuracy: 0.9957 - val_loss: 0.4120 - val_accuracy: 0.8475\n",
            "Epoch 44/50\n",
            "23/23 [==============================] - 1s 25ms/step - loss: 0.0613 - accuracy: 0.9887 - val_loss: 0.3604 - val_accuracy: 0.8771\n",
            "Epoch 45/50\n",
            "23/23 [==============================] - 1s 25ms/step - loss: 0.0504 - accuracy: 0.9943 - val_loss: 0.4150 - val_accuracy: 0.8517\n",
            "Epoch 46/50\n",
            "23/23 [==============================] - 1s 24ms/step - loss: 0.0398 - accuracy: 0.9986 - val_loss: 0.4385 - val_accuracy: 0.8602\n",
            "Epoch 47/50\n",
            "23/23 [==============================] - 1s 24ms/step - loss: 0.0517 - accuracy: 0.9887 - val_loss: 0.3972 - val_accuracy: 0.8686\n",
            "Epoch 48/50\n",
            "23/23 [==============================] - 1s 25ms/step - loss: 0.0403 - accuracy: 0.9957 - val_loss: 0.3947 - val_accuracy: 0.8602\n",
            "Epoch 49/50\n",
            "23/23 [==============================] - 1s 25ms/step - loss: 0.0340 - accuracy: 0.9986 - val_loss: 0.4393 - val_accuracy: 0.8559\n",
            "Epoch 50/50\n",
            "23/23 [==============================] - 1s 25ms/step - loss: 0.0316 - accuracy: 0.9986 - val_loss: 0.4090 - val_accuracy: 0.8559\n"
          ],
          "name": "stdout"
        }
      ]
    },
    {
      "cell_type": "code",
      "metadata": {
        "id": "KbruC4LekAeT",
        "outputId": "a22a8a10-83f4-42a5-d5a0-cc72cecd3062",
        "colab": {
          "base_uri": "https://localhost:8080/",
          "height": 282
        }
      },
      "source": [
        "import matplotlib.pyplot as plt\n",
        "\n",
        "plt.plot(fitted_model.history['loss'],'r',label='training loss')\n",
        "plt.plot(fitted_model.history['val_loss'],label='validation loss')\n",
        "plt.xlabel('No. of Epochs')\n",
        "plt.ylabel('Accuracy')\n",
        "plt.legend()\n",
        "plt.show()"
      ],
      "execution_count": 59,
      "outputs": [
        {
          "output_type": "display_data",
          "data": {
            "image/png": "[encoded data removed]",
            "text/plain": [
              "<Figure size 432x288 with 1 Axes>"
            ]
          },
          "metadata": {
            "tags": [],
            "needs_background": "light"
          }
        }
      ]
    },
    {
      "cell_type": "code",
      "metadata": {
        "id": "EJW0-wiSm2qS",
        "outputId": "f1eb20e4-c5d9-45a2-eb87-fff35075009d",
        "colab": {
          "base_uri": "https://localhost:8080/",
          "height": 279
        }
      },
      "source": [
        "\n",
        "plt.plot(fitted_model.history['accuracy'],'r',label='training accuracy')\n",
        "plt.plot(fitted_model.history['val_accuracy'],label='validation accuracy')\n",
        "plt.xlabel('No. of Epochs')\n",
        "plt.ylabel('Accuracy')\n",
        "plt.legend()\n",
        "plt.show()"
      ],
      "execution_count": 60,
      "outputs": [
        {
          "output_type": "display_data",
          "data": {
            "image/png": "[encoded data removed]",
            "text/plain": [
              "<Figure size 432x288 with 1 Axes>"
            ]
          },
          "metadata": {
            "tags": [],
            "needs_background": "light"
          }
        }
      ]
    },
    {
      "cell_type": "code",
      "metadata": {
        "id": "y62Esd5PnIjQ"
      },
      "source": [
        "model.save('mask_detector_cnn.h5')"
      ],
      "execution_count": 61,
      "outputs": []
    },
    {
      "cell_type": "code",
      "metadata": {
        "id": "-idtQOiJoSyp",
        "outputId": "ccb76d93-507c-4d72-a45a-cce728a67673",
        "colab": {
          "base_uri": "https://localhost:8080/",
          "height": 17
        }
      },
      "source": [
        "from google.colab import files\n",
        "files.download('mask_detector_cnn.h5')"
      ],
      "execution_count": 62,
      "outputs": [
        {
          "output_type": "display_data",
          "data": {
            "application/javascript": [
              "\n",
              "    async function download(id, filename, size) {\n",
              "      if (!google.colab.kernel.accessAllowed) {\n",
              "        return;\n",
              "      }\n",
              "      const div = document.createElement('div');\n",
              "      const label = document.createElement('label');\n",
              "      label.textContent = `Downloading \"${filename}\": `;\n",
              "      div.appendChild(label);\n",
              "      const progress = document.createElement('progress');\n",
              "      progress.max = size;\n",
              "      div.appendChild(progress);\n",
              "      document.body.appendChild(div);\n",
              "\n",
              "      const buffers = [];\n",
              "      let downloaded = 0;\n",
              "\n",
              "      const channel = await google.colab.kernel.comms.open(id);\n",
              "      // Send a message to notify the kernel that we're ready.\n",
              "      channel.send({})\n",
              "\n",
              "      for await (const message of channel.messages) {\n",
              "        // Send a message to notify the kernel that we're ready.\n",
              "        channel.send({})\n",
              "        if (message.buffers) {\n",
              "          for (const buffer of message.buffers) {\n",
              "            buffers.push(buffer);\n",
              "            downloaded += buffer.byteLength;\n",
              "            progress.value = downloaded;\n",
              "          }\n",
              "        }\n",
              "      }\n",
              "      const blob = new Blob(buffers, {type: 'application/binary'});\n",
              "      const a = document.createElement('a');\n",
              "      a.href = window.URL.createObjectURL(blob);\n",
              "      a.download = filename;\n",
              "      div.appendChild(a);\n",
              "      a.click();\n",
              "      div.remove();\n",
              "    }\n",
              "  "
            ],
            "text/plain": [
              "<IPython.core.display.Javascript object>"
            ]
          },
          "metadata": {
            "tags": []
          }
        },
        {
          "output_type": "display_data",
          "data": {
            "application/javascript": [
              "download(\"download_6fe6582b-94be-4e2a-9e86-cd5fd46ec627\", \"mask_detector_cnn.h5\", 67393376)"
            ],
            "text/plain": [
              "<IPython.core.display.Javascript object>"
            ]
          },
          "metadata": {
            "tags": []
          }
        }
      ]
    },
    {
      "cell_type": "code",
      "metadata": {
        "id": "F1R1L_X3oVOJ"
      },
      "source": [
        ""
      ],
      "execution_count": null,
      "outputs": []
    }
  ]
}