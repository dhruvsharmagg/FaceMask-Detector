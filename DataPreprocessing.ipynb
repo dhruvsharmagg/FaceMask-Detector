{
 "cells": [
  {
   "cell_type": "code",
   "execution_count": 1,
   "metadata": {},
   "outputs": [],
   "source": [
    "import os"
   ]
  },
  {
   "cell_type": "code",
   "execution_count": 2,
   "metadata": {},
   "outputs": [],
   "source": [
    "dataset = 'Face Mask Dataset'\n",
    "data_dir = os.listdir(dataset)"
   ]
  },
  {
   "cell_type": "code",
   "execution_count": 3,
   "metadata": {},
   "outputs": [
    {
     "data": {
      "text/plain": [
       "['WithMask', 'WithoutMask']"
      ]
     },
     "execution_count": 3,
     "metadata": {},
     "output_type": "execute_result"
    }
   ],
   "source": [
    "data_dir"
   ]
  },
  {
   "cell_type": "code",
   "execution_count": 4,
   "metadata": {},
   "outputs": [],
   "source": [
    "import cv2\n",
    "import numpy as np\n",
    "from tensorflow.keras.utils import to_categorical\n",
    "from sklearn.preprocessing import LabelBinarizer"
   ]
  },
  {
   "cell_type": "code",
   "execution_count": 5,
   "metadata": {},
   "outputs": [],
   "source": [
    "img_rows , img_cols = 112,112"
   ]
  },
  {
   "cell_type": "code",
   "execution_count": 6,
   "metadata": {},
   "outputs": [],
   "source": [
    "images = []\n",
    "labels = []"
   ]
  },
  {
   "cell_type": "code",
   "execution_count": 8,
   "metadata": {},
   "outputs": [],
   "source": [
    "for category in data_dir:\n",
    "    folder_path = os.path.join(dataset,category)\n",
    "    for img in os.listdir(folder_path):\n",
    "        img_path = os.path.join(folder_path,img)\n",
    "        img = cv2.imread(img_path)\n",
    "        \n",
    "        try:\n",
    "            grayscale_img = cv2.cvtColor(img,cv2.COLOR_BGR2GRAY)\n",
    "            resized_img = cv2.resize(grayscale_img,(img_rows,img_cols))\n",
    "            images.append(resized_img)\n",
    "            labels.append(category)\n",
    "            \n",
    "        except Exception as e:\n",
    "            print('Exception',e)"
   ]
  },
  {
   "cell_type": "code",
   "execution_count": 9,
   "metadata": {},
   "outputs": [],
   "source": [
    "images = np.array(images)/255.0"
   ]
  },
  {
   "cell_type": "code",
   "execution_count": 10,
   "metadata": {},
   "outputs": [],
   "source": [
    "images = np.reshape(images,(images.shape[0],img_rows,img_cols,1))"
   ]
  },
  {
   "cell_type": "code",
   "execution_count": 11,
   "metadata": {},
   "outputs": [],
   "source": [
    "lb = LabelBinarizer()\n",
    "labels = lb.fit_transform(labels)\n",
    "labels = to_categorical(labels)\n"
   ]
  },
  {
   "cell_type": "code",
   "execution_count": 12,
   "metadata": {},
   "outputs": [],
   "source": [
    "labels = np.array(labels)"
   ]
  },
  {
   "cell_type": "code",
   "execution_count": 14,
   "metadata": {},
   "outputs": [
    {
     "data": {
      "text/plain": [
       "(1255, 2)"
      ]
     },
     "execution_count": 14,
     "metadata": {},
     "output_type": "execute_result"
    }
   ],
   "source": [
    "labels.shape"
   ]
  },
  {
   "cell_type": "code",
   "execution_count": 15,
   "metadata": {},
   "outputs": [
    {
     "data": {
      "text/plain": [
       "(1255, 112, 112, 1)"
      ]
     },
     "execution_count": 15,
     "metadata": {},
     "output_type": "execute_result"
    }
   ],
   "source": [
    "images.shape"
   ]
  },
  {
   "cell_type": "code",
   "execution_count": 16,
   "metadata": {},
   "outputs": [
    {
     "data": {
      "text/plain": [
       "array([[[[0.96078431],\n",
       "         [0.96078431],\n",
       "         [0.95686275],\n",
       "         ...,\n",
       "         [0.40784314],\n",
       "         [0.41960784],\n",
       "         [0.39607843]],\n",
       "\n",
       "        [[0.95686275],\n",
       "         [0.96470588],\n",
       "         [0.95686275],\n",
       "         ...,\n",
       "         [0.41568627],\n",
       "         [0.41176471],\n",
       "         [0.42352941]],\n",
       "\n",
       "        [[0.95686275],\n",
       "         [0.95686275],\n",
       "         [0.96078431],\n",
       "         ...,\n",
       "         [0.40392157],\n",
       "         [0.40392157],\n",
       "         [0.40784314]],\n",
       "\n",
       "        ...,\n",
       "\n",
       "        [[0.66666667],\n",
       "         [0.64705882],\n",
       "         [0.63529412],\n",
       "         ...,\n",
       "         [0.05882353],\n",
       "         [0.10196078],\n",
       "         [0.03529412]],\n",
       "\n",
       "        [[0.60784314],\n",
       "         [0.59607843],\n",
       "         [0.58039216],\n",
       "         ...,\n",
       "         [0.6       ],\n",
       "         [0.07058824],\n",
       "         [0.08235294]],\n",
       "\n",
       "        [[0.55294118],\n",
       "         [0.55294118],\n",
       "         [0.54509804],\n",
       "         ...,\n",
       "         [0.79607843],\n",
       "         [0.77254902],\n",
       "         [0.20392157]]],\n",
       "\n",
       "\n",
       "       [[[0.23137255],\n",
       "         [0.21568627],\n",
       "         [0.20392157],\n",
       "         ...,\n",
       "         [0.08627451],\n",
       "         [0.10588235],\n",
       "         [0.10196078]],\n",
       "\n",
       "        [[0.20784314],\n",
       "         [0.24705882],\n",
       "         [0.15294118],\n",
       "         ...,\n",
       "         [0.09411765],\n",
       "         [0.10196078],\n",
       "         [0.09803922]],\n",
       "\n",
       "        [[0.23529412],\n",
       "         [0.22352941],\n",
       "         [0.14117647],\n",
       "         ...,\n",
       "         [0.09019608],\n",
       "         [0.09411765],\n",
       "         [0.10196078]],\n",
       "\n",
       "        ...,\n",
       "\n",
       "        [[0.2627451 ],\n",
       "         [0.23529412],\n",
       "         [0.23137255],\n",
       "         ...,\n",
       "         [0.25098039],\n",
       "         [0.11372549],\n",
       "         [0.24313725]],\n",
       "\n",
       "        [[0.25490196],\n",
       "         [0.25882353],\n",
       "         [0.23529412],\n",
       "         ...,\n",
       "         [0.22352941],\n",
       "         [0.14509804],\n",
       "         [0.23137255]],\n",
       "\n",
       "        [[0.21568627],\n",
       "         [0.24313725],\n",
       "         [0.23529412],\n",
       "         ...,\n",
       "         [0.18823529],\n",
       "         [0.14509804],\n",
       "         [0.22352941]]],\n",
       "\n",
       "\n",
       "       [[[0.27058824],\n",
       "         [0.39607843],\n",
       "         [0.40784314],\n",
       "         ...,\n",
       "         [0.20392157],\n",
       "         [0.19215686],\n",
       "         [0.20392157]],\n",
       "\n",
       "        [[0.33333333],\n",
       "         [0.38823529],\n",
       "         [0.4       ],\n",
       "         ...,\n",
       "         [0.2       ],\n",
       "         [0.17254902],\n",
       "         [0.16078431]],\n",
       "\n",
       "        [[0.36470588],\n",
       "         [0.38039216],\n",
       "         [0.39215686],\n",
       "         ...,\n",
       "         [0.18039216],\n",
       "         [0.15686275],\n",
       "         [0.13333333]],\n",
       "\n",
       "        ...,\n",
       "\n",
       "        [[0.18039216],\n",
       "         [0.24705882],\n",
       "         [0.25490196],\n",
       "         ...,\n",
       "         [0.50196078],\n",
       "         [0.49411765],\n",
       "         [0.48627451]],\n",
       "\n",
       "        [[0.28627451],\n",
       "         [0.2745098 ],\n",
       "         [0.19215686],\n",
       "         ...,\n",
       "         [0.49019608],\n",
       "         [0.48627451],\n",
       "         [0.47058824]],\n",
       "\n",
       "        [[0.43137255],\n",
       "         [0.43137255],\n",
       "         [0.44313725],\n",
       "         ...,\n",
       "         [0.47843137],\n",
       "         [0.47058824],\n",
       "         [0.4627451 ]]],\n",
       "\n",
       "\n",
       "       ...,\n",
       "\n",
       "\n",
       "       [[[0.79215686],\n",
       "         [0.81568627],\n",
       "         [0.83921569],\n",
       "         ...,\n",
       "         [0.38823529],\n",
       "         [0.41568627],\n",
       "         [0.47843137]],\n",
       "\n",
       "        [[0.77647059],\n",
       "         [0.80784314],\n",
       "         [0.83529412],\n",
       "         ...,\n",
       "         [0.38431373],\n",
       "         [0.38823529],\n",
       "         [0.41960784]],\n",
       "\n",
       "        [[0.76862745],\n",
       "         [0.8       ],\n",
       "         [0.82745098],\n",
       "         ...,\n",
       "         [0.38431373],\n",
       "         [0.37647059],\n",
       "         [0.36470588]],\n",
       "\n",
       "        ...,\n",
       "\n",
       "        [[0.49019608],\n",
       "         [0.45882353],\n",
       "         [0.43921569],\n",
       "         ...,\n",
       "         [0.34117647],\n",
       "         [0.34509804],\n",
       "         [0.45098039]],\n",
       "\n",
       "        [[0.48627451],\n",
       "         [0.47058824],\n",
       "         [0.43137255],\n",
       "         ...,\n",
       "         [0.30980392],\n",
       "         [0.35294118],\n",
       "         [0.43529412]],\n",
       "\n",
       "        [[0.48627451],\n",
       "         [0.4745098 ],\n",
       "         [0.45490196],\n",
       "         ...,\n",
       "         [0.31372549],\n",
       "         [0.36078431],\n",
       "         [0.43921569]]],\n",
       "\n",
       "\n",
       "       [[[1.        ],\n",
       "         [1.        ],\n",
       "         [1.        ],\n",
       "         ...,\n",
       "         [1.        ],\n",
       "         [1.        ],\n",
       "         [1.        ]],\n",
       "\n",
       "        [[1.        ],\n",
       "         [1.        ],\n",
       "         [1.        ],\n",
       "         ...,\n",
       "         [1.        ],\n",
       "         [1.        ],\n",
       "         [1.        ]],\n",
       "\n",
       "        [[1.        ],\n",
       "         [1.        ],\n",
       "         [1.        ],\n",
       "         ...,\n",
       "         [1.        ],\n",
       "         [1.        ],\n",
       "         [1.        ]],\n",
       "\n",
       "        ...,\n",
       "\n",
       "        [[0.29019608],\n",
       "         [0.29019608],\n",
       "         [0.44313725],\n",
       "         ...,\n",
       "         [0.4627451 ],\n",
       "         [0.46666667],\n",
       "         [0.45098039]],\n",
       "\n",
       "        [[0.22745098],\n",
       "         [0.37647059],\n",
       "         [0.51764706],\n",
       "         ...,\n",
       "         [0.47058824],\n",
       "         [0.47058824],\n",
       "         [0.45882353]],\n",
       "\n",
       "        [[0.2627451 ],\n",
       "         [0.39607843],\n",
       "         [0.5372549 ],\n",
       "         ...,\n",
       "         [0.47843137],\n",
       "         [0.4745098 ],\n",
       "         [0.47058824]]],\n",
       "\n",
       "\n",
       "       [[[0.02352941],\n",
       "         [0.02352941],\n",
       "         [0.01960784],\n",
       "         ...,\n",
       "         [0.1254902 ],\n",
       "         [0.1254902 ],\n",
       "         [0.17254902]],\n",
       "\n",
       "        [[0.02352941],\n",
       "         [0.02352941],\n",
       "         [0.01960784],\n",
       "         ...,\n",
       "         [0.12156863],\n",
       "         [0.1254902 ],\n",
       "         [0.16470588]],\n",
       "\n",
       "        [[0.02352941],\n",
       "         [0.02352941],\n",
       "         [0.01960784],\n",
       "         ...,\n",
       "         [0.1254902 ],\n",
       "         [0.12941176],\n",
       "         [0.16078431]],\n",
       "\n",
       "        ...,\n",
       "\n",
       "        [[0.08235294],\n",
       "         [0.08627451],\n",
       "         [0.09019608],\n",
       "         ...,\n",
       "         [0.21960784],\n",
       "         [0.21960784],\n",
       "         [0.20784314]],\n",
       "\n",
       "        [[0.08627451],\n",
       "         [0.09019608],\n",
       "         [0.09019608],\n",
       "         ...,\n",
       "         [0.22352941],\n",
       "         [0.20784314],\n",
       "         [0.2       ]],\n",
       "\n",
       "        [[0.09019608],\n",
       "         [0.08627451],\n",
       "         [0.08627451],\n",
       "         ...,\n",
       "         [0.21960784],\n",
       "         [0.2       ],\n",
       "         [0.18823529]]]])"
      ]
     },
     "execution_count": 16,
     "metadata": {},
     "output_type": "execute_result"
    }
   ],
   "source": [
    "images"
   ]
  },
  {
   "cell_type": "code",
   "execution_count": 19,
   "metadata": {},
   "outputs": [
    {
     "data": {
      "text/plain": [
       "array([[1., 0.],\n",
       "       [1., 0.],\n",
       "       [1., 0.],\n",
       "       ...,\n",
       "       [0., 1.],\n",
       "       [0., 1.],\n",
       "       [0., 1.]], dtype=float32)"
      ]
     },
     "execution_count": 19,
     "metadata": {},
     "output_type": "execute_result"
    }
   ],
   "source": [
    "(labels)"
   ]
  },
  {
   "cell_type": "code",
   "execution_count": 20,
   "metadata": {},
   "outputs": [],
   "source": [
    "np.save('images',images)"
   ]
  },
  {
   "cell_type": "code",
   "execution_count": 21,
   "metadata": {},
   "outputs": [],
   "source": [
    "np.save('labels',labels)"
   ]
  },
  {
   "cell_type": "code",
   "execution_count": null,
   "metadata": {},
   "outputs": [],
   "source": []
  }
 ],
 "metadata": {
  "kernelspec": {
   "display_name": "Python 3",
   "language": "python",
   "name": "python3"
  },
  "language_info": {
   "codemirror_mode": {
    "name": "ipython",
    "version": 3
   },
   "file_extension": ".py",
   "mimetype": "text/x-python",
   "name": "python",
   "nbconvert_exporter": "python",
   "pygments_lexer": "ipython3",
   "version": "3.7.6"
  }
 },
 "nbformat": 4,
 "nbformat_minor": 4
}
